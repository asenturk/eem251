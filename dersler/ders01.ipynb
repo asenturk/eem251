{
 "cells": [
  {
   "cell_type": "markdown",
   "metadata": {},
   "source": [
    "![ornek 1 devre](./images/ders01_1.png)"
   ]
  },
  {
   "cell_type": "code",
   "execution_count": null,
   "metadata": {},
   "outputs": [],
   "source": [
    "void setup() {\n",
    "  pinMode(8, OUTPUT);\n",
    "  pinMode(9, OUTPUT);\n",
    "  pinMode(10, OUTPUT);\n",
    "  pinMode(11, OUTPUT);\n",
    "}\n",
    "\n",
    "void loop() {\n",
    "  digitalWrite(8, HIGH);\n",
    "  digitalWrite(9, HIGH); \n",
    "  digitalWrite(10, HIGH); \n",
    "  digitalWrite(11, HIGH);    \n",
    "  delay(200);                       \n",
    "  digitalWrite(8, LOW); \n",
    "  digitalWrite(9, LOW); \n",
    "  digitalWrite(10, LOW); \n",
    "  digitalWrite(11, LOW);    \n",
    "  delay(200);                       \n",
    "}"
   ]
  },
  {
   "cell_type": "code",
   "execution_count": null,
   "metadata": {},
   "outputs": [],
   "source": [
    "void setup() {\n",
    "  for(int pin=8; pin<=11; pin++)\n",
    "    pinMode(pin, OUTPUT);\n",
    "}\n",
    "\n",
    "void loop() {\n",
    "  int dly=500;\n",
    "  for(int pin=8; pin<=11; pin++)\n",
    "    digitalWrite(pin, HIGH);\n",
    "  \n",
    "  delay(dly);                       \n",
    "  \n",
    "  for(int pin=8; pin<=11; pin++)\n",
    "    digitalWrite(pin, LOW); \n",
    "    \n",
    "  delay(dly);                       \n",
    "}"
   ]
  },
  {
   "cell_type": "code",
   "execution_count": null,
   "metadata": {},
   "outputs": [],
   "source": [
    "void setup() {\n",
    "  for(int pin=8; pin<=11; pin++)\n",
    "    pinMode(pin, OUTPUT);\n",
    "}\n",
    "\n",
    "void loop() {\n",
    "  int dly=1000;\n",
    "  \n",
    "  for(int pin=8; pin<=11; pin++){\n",
    "    digitalWrite(pin, HIGH);\n",
    "    delay(dly);\n",
    "    digitalWrite(pin, LOW);\n",
    "    //delay(dly);\n",
    "  }                      \n",
    "}"
   ]
  },
  {
   "cell_type": "code",
   "execution_count": null,
   "metadata": {},
   "outputs": [],
   "source": [
    "void setup() {\n",
    "  for(int pin=8; pin<=11; pin++)\n",
    "    pinMode(pin, OUTPUT);\n",
    "}\n",
    "\n",
    "void loop() {\n",
    "  int dly=1000;\n",
    "  \n",
    "  for(int pin=8; pin<=11; pin++){\n",
    "    digitalWrite(pin, HIGH);\n",
    "    delay(dly);\n",
    "    digitalWrite(pin, LOW);\n",
    "    //delay(dly);\n",
    "  }\n",
    "  \n",
    "  for(int pin=10; pin>=9; pin--){\n",
    "    digitalWrite(pin, HIGH);\n",
    "    delay(dly);\n",
    "    digitalWrite(pin, LOW);\n",
    "    //delay(dly);\n",
    "  }\n",
    " "
   ]
  },
  {
   "cell_type": "markdown",
   "metadata": {},
   "source": [
    "![ornek 1 devre](./images/ders01_2.png)"
   ]
  },
  {
   "cell_type": "code",
   "execution_count": null,
   "metadata": {},
   "outputs": [],
   "source": [
    "int pinler[]={6,4,7,12};\n",
    "\n",
    "void setup() {\n",
    "  for(int i=0; i<=3; i++)\n",
    "    pinMode(pinler[i], OUTPUT);\n",
    "}\n",
    "\n",
    "void loop() {\n",
    "  int dly=500;\n",
    "  \n",
    "  for(int i=0; i<=3; i++){\n",
    "    digitalWrite(pinler[i], HIGH);\n",
    "    delay(dly);\n",
    "    digitalWrite(pinler[i], LOW);\n",
    "    delay(dly);\n",
    "  }\n",
    "                       \n",
    "}"
   ]
  },
  {
   "cell_type": "code",
   "execution_count": null,
   "metadata": {},
   "outputs": [],
   "source": [
    "int pinler[]={6,4,7,12};\n",
    "\n",
    "void setup() {\n",
    "  for(int i=0; i<=3; i++)\n",
    "    pinMode(pinler[i], OUTPUT);\n",
    "}\n",
    "\n",
    "void loop() {\n",
    "  int dly;\n",
    "\n",
    "  for(dly=400; dly>=100; dly-=50)\n",
    "    for(int i=0; i<=3; i++){\n",
    "      digitalWrite(pinler[i], HIGH);\n",
    "      delay(dly);\n",
    "      digitalWrite(pinler[i], LOW);\n",
    "      delay(dly);\n",
    "    }                       \n",
    "}"
   ]
  },
  {
   "cell_type": "code",
   "execution_count": null,
   "metadata": {},
   "outputs": [],
   "source": [
    "int pinler[]={6,4,7,12};\n",
    "\n",
    "void setup() {\n",
    "  for(int i=0; i<=3; i++)\n",
    "    pinMode(pinler[i], OUTPUT);\n",
    "}\n",
    "int dly=400;\n",
    "void loop() {\n",
    "    for(int i=0; i<=3; i++){\n",
    "      digitalWrite(pinler[i], HIGH);\n",
    "      delay(dly);\n",
    "      digitalWrite(pinler[i], LOW);\n",
    "      delay(dly);\n",
    "    }\n",
    "\n",
    "    dly-=50;\n",
    "    if(dly==50)\n",
    "      dly=400;\n",
    "                       \n",
    "}"
   ]
  },
  {
   "cell_type": "code",
   "execution_count": null,
   "metadata": {},
   "outputs": [],
   "source": [
    "int pinler[]={6,4,7,12};\n",
    "long rastgele_sayi;\n",
    "\n",
    "void setup() {\n",
    "  for(int i=0; i<=3; i++)\n",
    "    pinMode(pinler[i], OUTPUT);\n",
    "  randomSeed(100);\n",
    "}\n",
    "int dly=400;\n",
    "void loop() {\n",
    "    for(int i=0; i<=3; i++){\n",
    "      rastgele_sayi = random(0,4);\n",
    "      digitalWrite(pinler[rastgele_sayi], HIGH);\n",
    "      delay(dly);\n",
    "      digitalWrite(pinler[rastgele_sayi], LOW);\n",
    "      delay(dly);\n",
    "    }   \n",
    "                       \n",
    "}"
   ]
  },
  {
   "cell_type": "markdown",
   "metadata": {},
   "source": [
    "![ornek 1 devre](./images/ders01_3.png)"
   ]
  },
  {
   "cell_type": "code",
   "execution_count": null,
   "metadata": {},
   "outputs": [],
   "source": [
    "long rastgele_sayi;\n",
    "void setup() {\n",
    "  for(int i=9; i<=12; i++)\n",
    "    pinMode(i, OUTPUT);\n",
    "  randomSeed(100);\n",
    "}\n",
    "int dly=400;\n",
    "void loop() { \n",
    "  rastgele_sayi = random(9,13);\n",
    "  digitalWrite(rastgele_sayi, HIGH);\n",
    "  delay(dly);\n",
    "  digitalWrite(rastgele_sayi, LOW);\n",
    "  delay(dly);                      \n",
    "}"
   ]
  },
  {
   "cell_type": "code",
   "execution_count": null,
   "metadata": {},
   "outputs": [],
   "source": [
    "void setup() {\n",
    "  for(int i=9; i<=12; i++)\n",
    "    pinMode(i, OUTPUT);\n",
    "}\n",
    "int sayac=0;\n",
    "int dly=500;\n",
    "void loop() { \n",
    "  for(int i=0; i<=3; i++){\n",
    "    if(bitRead(sayac, i)==1)\n",
    "      digitalWrite(i+9, HIGH);\n",
    "    else\n",
    "      digitalWrite(i+9, LOW);\n",
    "  }\n",
    "  sayac++;\n",
    "  delay(dly);\n",
    "  if(sayac>15)\n",
    "    sayac=0;\n",
    "                \n",
    "}"
   ]
  },
  {
   "cell_type": "code",
   "execution_count": null,
   "metadata": {},
   "outputs": [],
   "source": [
    "void setup() {\n",
    "  for(int i=9; i<=12; i++)\n",
    "    pinMode(i, OUTPUT);\n",
    "}\n",
    "int sayac=0;\n",
    "int dly=500;\n",
    "void loop() { \n",
    "  for(int i=0; i<=3; i++){\n",
    "    if(bitRead(sayac, i))\n",
    "      digitalWrite(i+9, HIGH);\n",
    "    else\n",
    "      digitalWrite(i+9, LOW);\n",
    "  }\n",
    "  sayac++;\n",
    "  delay(dly);\n",
    "                \n",
    "}"
   ]
  }
 ],
 "metadata": {
  "kernelspec": {
   "display_name": "C++14",
   "language": "C++14",
   "name": "xeus-cling-cpp14"
  },
  "language_info": {
   "codemirror_mode": "text/x-c++src",
   "file_extension": ".cpp",
   "mimetype": "text/x-c++src",
   "name": "c++",
   "version": "-std=c++14"
  }
 },
 "nbformat": 4,
 "nbformat_minor": 2
}
