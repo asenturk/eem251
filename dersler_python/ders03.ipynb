{
 "cells": [
  {
   "cell_type": "code",
   "execution_count": 1,
   "metadata": {},
   "outputs": [
    {
     "name": "stdout",
     "output_type": "stream",
     "text": [
      "[4, 5, 6, 7]\n",
      "5\n"
     ]
    },
    {
     "data": {
      "text/plain": [
       "4"
      ]
     },
     "execution_count": 1,
     "metadata": {},
     "output_type": "execute_result"
    }
   ],
   "source": [
    "#iki boyutlu liste\n",
    "#matriks\n",
    "\n",
    "a=[[1,2,3,4],[4,5,6,7],[7,8,9,10]]\n",
    "print(a[1])\n",
    "print(a[1][1])\n",
    "len(a)\n",
    "len(a[0])"
   ]
  },
  {
   "cell_type": "code",
   "execution_count": 12,
   "metadata": {},
   "outputs": [],
   "source": [
    "b=[[5,6,7,8],[8,9,10,11],[11,12,13,14]]"
   ]
  },
  {
   "cell_type": "code",
   "execution_count": 13,
   "metadata": {},
   "outputs": [
    {
     "name": "stdout",
     "output_type": "stream",
     "text": [
      "1 2 3 4 \n",
      "4 5 6 7 \n",
      "7 8 9 10 \n"
     ]
    }
   ],
   "source": [
    "for i in range(len(a)):\n",
    "    for j in range(len(a[0])):\n",
    "        print(a[i][j], end=\" \")\n",
    "    print()\n"
   ]
  },
  {
   "cell_type": "code",
   "execution_count": 14,
   "metadata": {},
   "outputs": [
    {
     "name": "stdout",
     "output_type": "stream",
     "text": [
      "6 8 10 12 \n",
      "12 14 16 18 \n",
      "18 20 22 24 \n"
     ]
    }
   ],
   "source": [
    "c=[]\n",
    "for i in range(len(a)):\n",
    "    c_i=[]\n",
    "    for j in range(len(a[0])):\n",
    "        x=a[i][j]+b[i][j]\n",
    "        c_i.append(x)\n",
    "    c.append(c_i)\n",
    "\n",
    "    \n",
    "for i in range(len(c)):\n",
    "    for j in range(len(c[0])):\n",
    "        print(c[i][j], end=\" \")\n",
    "    print()"
   ]
  },
  {
   "cell_type": "markdown",
   "metadata": {},
   "source": [
    "çalışma ödevi: yukarıdaki matrislerin çarpımını yapan programı yazınız."
   ]
  },
  {
   "cell_type": "markdown",
   "metadata": {},
   "source": [
    "sözlük"
   ]
  },
  {
   "cell_type": "code",
   "execution_count": 25,
   "metadata": {},
   "outputs": [
    {
     "name": "stdout",
     "output_type": "stream",
     "text": [
      "mehmet\n",
      "100\n",
      "isim\n",
      "mehmet\n",
      "numara\n",
      "100\n",
      "not\n",
      "75\n",
      "{'isim': 'mehmet', 'numara': 100, 'not': 75, 'yeni anahtar': 'abc'}\n"
     ]
    }
   ],
   "source": [
    "a={\"isim\":\"mehmet\", \"numara\":100, \"not\":75}\n",
    "print(a[\"isim\"])\n",
    "print(a[\"numara\"])\n",
    "\n",
    "for x in a:\n",
    "    print(x)\n",
    "    print(a[x])\n",
    "\n",
    "a[\"yeni anahtar\"]=\"abc\"\n",
    "print(a)"
   ]
  },
  {
   "cell_type": "code",
   "execution_count": 34,
   "metadata": {},
   "outputs": [
    {
     "name": "stdout",
     "output_type": "stream",
     "text": [
      "dict_keys(['isim', 'numara', 'not', 'yeni anahtar'])\n",
      "dict_values(['mehmet', 100, 75, 'abc'])\n"
     ]
    }
   ],
   "source": [
    "dir(a)\n",
    "print(a.keys())\n",
    "print(a.values())"
   ]
  },
  {
   "cell_type": "markdown",
   "metadata": {},
   "source": [
    "tuples"
   ]
  },
  {
   "cell_type": "code",
   "execution_count": 36,
   "metadata": {},
   "outputs": [
    {
     "data": {
      "text/plain": [
       "tuple"
      ]
     },
     "execution_count": 36,
     "metadata": {},
     "output_type": "execute_result"
    }
   ],
   "source": [
    "a=()\n",
    "type(a)"
   ]
  },
  {
   "cell_type": "code",
   "execution_count": 40,
   "metadata": {},
   "outputs": [
    {
     "name": "stdout",
     "output_type": "stream",
     "text": [
      "(1, 2, 3, 4, 5)\n",
      "1-2-3-4-5-"
     ]
    }
   ],
   "source": [
    "a=(1,2,3,4,5)\n",
    "print(a)\n",
    "for i in a:\n",
    "    print(i, end=\"-\")"
   ]
  },
  {
   "cell_type": "code",
   "execution_count": 41,
   "metadata": {},
   "outputs": [
    {
     "data": {
      "text/plain": [
       "4"
      ]
     },
     "execution_count": 41,
     "metadata": {},
     "output_type": "execute_result"
    }
   ],
   "source": [
    "a[3]"
   ]
  },
  {
   "cell_type": "code",
   "execution_count": 42,
   "metadata": {},
   "outputs": [
    {
     "ename": "TypeError",
     "evalue": "'tuple' object does not support item assignment",
     "output_type": "error",
     "traceback": [
      "\u001b[1;31m---------------------------------------------------------------------------\u001b[0m",
      "\u001b[1;31mTypeError\u001b[0m                                 Traceback (most recent call last)",
      "\u001b[1;32m<ipython-input-42-615d01b7cea0>\u001b[0m in \u001b[0;36m<module>\u001b[1;34m\u001b[0m\n\u001b[1;32m----> 1\u001b[1;33m \u001b[0ma\u001b[0m\u001b[1;33m[\u001b[0m\u001b[1;36m3\u001b[0m\u001b[1;33m]\u001b[0m\u001b[1;33m=\u001b[0m\u001b[1;36m10\u001b[0m\u001b[1;33m\u001b[0m\u001b[1;33m\u001b[0m\u001b[0m\n\u001b[0m",
      "\u001b[1;31mTypeError\u001b[0m: 'tuple' object does not support item assignment"
     ]
    }
   ],
   "source": [
    "#tuple turunun değeri değiştirilemez.\n",
    "a[3]=10"
   ]
  },
  {
   "cell_type": "markdown",
   "metadata": {},
   "source": [
    "kümeler (sets)"
   ]
  },
  {
   "cell_type": "code",
   "execution_count": 44,
   "metadata": {},
   "outputs": [],
   "source": [
    "b=[1,2,3,2,1,5,4,2,3,1]\n",
    "a=set(b)"
   ]
  },
  {
   "cell_type": "code",
   "execution_count": 45,
   "metadata": {},
   "outputs": [
    {
     "data": {
      "text/plain": [
       "{1, 2, 3, 4, 5}"
      ]
     },
     "execution_count": 45,
     "metadata": {},
     "output_type": "execute_result"
    }
   ],
   "source": [
    "a"
   ]
  },
  {
   "cell_type": "markdown",
   "metadata": {},
   "source": [
    "tuple listesi"
   ]
  },
  {
   "cell_type": "code",
   "execution_count": 50,
   "metadata": {},
   "outputs": [
    {
     "name": "stdout",
     "output_type": "stream",
     "text": [
      "[3, 7, 11, 15]\n"
     ]
    }
   ],
   "source": [
    "a=[(1,2),(3,4),(5,6),(7,8)]\n",
    "b=[]\n",
    "for (i,j) in a:\n",
    "    b.append(i+j)\n",
    "print(b)"
   ]
  },
  {
   "cell_type": "code",
   "execution_count": 47,
   "metadata": {},
   "outputs": [
    {
     "name": "stdout",
     "output_type": "stream",
     "text": [
      "[3, 7, 11, 15]\n"
     ]
    }
   ],
   "source": [
    "a=[(1,2),(3,4),(5,6),(7,8)]\n",
    "b=[]\n",
    "for t in a:\n",
    "    b.append(t[0]+t[1])\n",
    "print(b)"
   ]
  },
  {
   "cell_type": "code",
   "execution_count": 65,
   "metadata": {},
   "outputs": [
    {
     "name": "stdout",
     "output_type": "stream",
     "text": [
      "3 7 11 15 "
     ]
    }
   ],
   "source": [
    "a=[(1,2),(3,4),(5,6),(7,8)]\n",
    "\n",
    "for x in a:\n",
    "    toplam=0\n",
    "    for y in x:\n",
    "        toplam+=y\n",
    "    print(toplam, end=\" \")\n",
    "    \n",
    "    "
   ]
  },
  {
   "cell_type": "markdown",
   "metadata": {},
   "source": [
    "enumarate"
   ]
  },
  {
   "cell_type": "code",
   "execution_count": 53,
   "metadata": {},
   "outputs": [
    {
     "name": "stdout",
     "output_type": "stream",
     "text": [
      "0:b 1:u 2:  3:b 4:i 5:r 6:  7:s 8:t 9:r 10:i 11:n 12:g 13:d 14:i 15:r "
     ]
    }
   ],
   "source": [
    "a=\"bu bir stringdir\"\n",
    "for i in range(len(a)):\n",
    "    print(\"{}:{}\".format(i, a[i]), end=\" \")"
   ]
  },
  {
   "cell_type": "code",
   "execution_count": 55,
   "metadata": {},
   "outputs": [
    {
     "name": "stdout",
     "output_type": "stream",
     "text": [
      "0:b 1:u 2:  3:b 4:i 5:r 6:  7:s 8:t 9:r 10:i 11:n 12:g 13:d 14:i 15:r "
     ]
    }
   ],
   "source": [
    "a=\"bu bir stringdir\"\n",
    "i=0\n",
    "for kar in a:\n",
    "    print(\"{}:{}\".format(i, kar), end=\" \")\n",
    "    i+=1"
   ]
  },
  {
   "cell_type": "code",
   "execution_count": 56,
   "metadata": {},
   "outputs": [
    {
     "name": "stdout",
     "output_type": "stream",
     "text": [
      "0:b 1:u 2:  3:b 4:i 5:r 6:  7:s 8:t 9:r 10:i 11:n 12:g 13:d 14:i 15:r "
     ]
    }
   ],
   "source": [
    "a=\"bu bir stringdir\"\n",
    "\n",
    "for i,kar in enumerate(a):\n",
    "    print(\"{}:{}\".format(i, kar), end=\" \")\n",
    "    i+=1"
   ]
  },
  {
   "cell_type": "code",
   "execution_count": 58,
   "metadata": {},
   "outputs": [
    {
     "data": {
      "text/plain": [
       "[(0, 'b'),\n",
       " (1, 'u'),\n",
       " (2, ' '),\n",
       " (3, 'b'),\n",
       " (4, 'i'),\n",
       " (5, 'r'),\n",
       " (6, ' '),\n",
       " (7, 's'),\n",
       " (8, 't'),\n",
       " (9, 'r'),\n",
       " (10, 'i'),\n",
       " (11, 'n'),\n",
       " (12, 'g'),\n",
       " (13, 'd'),\n",
       " (14, 'i'),\n",
       " (15, 'r')]"
      ]
     },
     "execution_count": 58,
     "metadata": {},
     "output_type": "execute_result"
    }
   ],
   "source": [
    "list(enumerate(a))"
   ]
  },
  {
   "cell_type": "code",
   "execution_count": 60,
   "metadata": {},
   "outputs": [
    {
     "data": {
      "text/plain": [
       "[(5, 'b'),\n",
       " (6, 'u'),\n",
       " (7, ' '),\n",
       " (8, 'b'),\n",
       " (9, 'i'),\n",
       " (10, 'r'),\n",
       " (11, ' '),\n",
       " (12, 's'),\n",
       " (13, 't'),\n",
       " (14, 'r'),\n",
       " (15, 'i'),\n",
       " (16, 'n'),\n",
       " (17, 'g'),\n",
       " (18, 'd'),\n",
       " (19, 'i'),\n",
       " (20, 'r')]"
      ]
     },
     "execution_count": 60,
     "metadata": {},
     "output_type": "execute_result"
    }
   ],
   "source": [
    "x=enumerate(a, start=5)\n",
    "list(x)"
   ]
  },
  {
   "cell_type": "markdown",
   "metadata": {},
   "source": [
    "zip"
   ]
  },
  {
   "cell_type": "code",
   "execution_count": 62,
   "metadata": {},
   "outputs": [
    {
     "data": {
      "text/plain": [
       "[(1, 9), (2, 8), (3, 7), (4, 6), (5, 5), (6, 4)]"
      ]
     },
     "execution_count": 62,
     "metadata": {},
     "output_type": "execute_result"
    }
   ],
   "source": [
    "a=[1,2,3,4,5,6]\n",
    "b=[9,8,7,6,5,4]\n",
    "list(zip(a,b))"
   ]
  },
  {
   "cell_type": "code",
   "execution_count": 63,
   "metadata": {},
   "outputs": [
    {
     "name": "stdout",
     "output_type": "stream",
     "text": [
      "0:b 1:u 2:  3:b 4:i 5:r 6:  7:s 8:t 9:r 10:i 11:n 12:g 13:d 14:i 15:r "
     ]
    }
   ],
   "source": [
    "a=\"bu bir stringdir\"\n",
    "b=range(len(a))\n",
    "c=zip(b,a)\n",
    "\n",
    "for x,y in c:\n",
    "    print(\"{}:{}\".format(x, y), end=\" \")\n",
    "    i+=1"
   ]
  },
  {
   "cell_type": "markdown",
   "metadata": {},
   "source": [
    "list comprehensions"
   ]
  },
  {
   "cell_type": "code",
   "execution_count": 66,
   "metadata": {},
   "outputs": [
    {
     "data": {
      "text/plain": [
       "[1, 4, 9, 16, 25, 36, 49, 64, 81]"
      ]
     },
     "execution_count": 66,
     "metadata": {},
     "output_type": "execute_result"
    }
   ],
   "source": [
    "#birden ona kadar sayıların karelerini listeye ekleyelim\n",
    "a=[]\n",
    "for i in range(1,10):\n",
    "    a.append(i**2)\n",
    "a"
   ]
  },
  {
   "cell_type": "code",
   "execution_count": 67,
   "metadata": {},
   "outputs": [
    {
     "data": {
      "text/plain": [
       "[1, 4, 9, 16, 25, 36, 49, 64, 81]"
      ]
     },
     "execution_count": 67,
     "metadata": {},
     "output_type": "execute_result"
    }
   ],
   "source": [
    "a=[i**2 for i in range(1,10)]\n",
    "a"
   ]
  },
  {
   "cell_type": "code",
   "execution_count": 70,
   "metadata": {},
   "outputs": [
    {
     "data": {
      "text/plain": [
       "[9, 36, 81, 144, 225, 324, 441, 576, 729, 900, 1089]"
      ]
     },
     "execution_count": 70,
     "metadata": {},
     "output_type": "execute_result"
    }
   ],
   "source": [
    "#birden 35'e kadar 3'ün katı olan sayıların karesi\n",
    "\n",
    "a=[i**2 for i in range(3,35,3)]\n",
    "a"
   ]
  },
  {
   "cell_type": "code",
   "execution_count": 72,
   "metadata": {},
   "outputs": [
    {
     "data": {
      "text/plain": [
       "[9, 36, 81, 144, 225, 324, 441, 576, 729, 900, 1089]"
      ]
     },
     "execution_count": 72,
     "metadata": {},
     "output_type": "execute_result"
    }
   ],
   "source": [
    "#birden 35'e kadar 3'ün katı olan sayıların karesi\n",
    "\n",
    "a=[i**2 for i in range(1,35) if i%3==0]\n",
    "a"
   ]
  },
  {
   "cell_type": "code",
   "execution_count": 73,
   "metadata": {},
   "outputs": [
    {
     "data": {
      "text/plain": [
       "[27, 125, 216, 729, 1000, 1728, 3375, 5832, 8000, 9261, 13824, 15625, 19683]"
      ]
     },
     "execution_count": 73,
     "metadata": {},
     "output_type": "execute_result"
    }
   ],
   "source": [
    "#birden 30'a kadar 3'ün veya 5'in katı olan sayıların küpü\n",
    "\n",
    "a=[i**3 for i in range(1,30) if i%3==0 or i%5==0]\n",
    "a"
   ]
  },
  {
   "cell_type": "code",
   "execution_count": 80,
   "metadata": {},
   "outputs": [
    {
     "data": {
      "text/plain": [
       "[6, 2, 10, 8, 12]"
      ]
     },
     "execution_count": 80,
     "metadata": {},
     "output_type": "execute_result"
    }
   ],
   "source": [
    "# b listesinin çift elemanlarını a listesi yapalım\n",
    "b=[1,5,9,3,6,2,10,15,8,12,5]\n",
    "\n",
    "a=[i for i in b if i%2==0]\n",
    "a"
   ]
  },
  {
   "cell_type": "code",
   "execution_count": 81,
   "metadata": {},
   "outputs": [
    {
     "data": {
      "text/plain": [
       "[6, 2, 10, 8, 12]"
      ]
     },
     "execution_count": 81,
     "metadata": {},
     "output_type": "execute_result"
    }
   ],
   "source": [
    "# b listesinin çift elemanlarını a listesi yapalım\n",
    "b=[1,5,9,3,6,2,10,15,8,12,5]\n",
    "\n",
    "a=[sayi for sayi in b if sayi%2==0]\n",
    "a"
   ]
  },
  {
   "cell_type": "code",
   "execution_count": 85,
   "metadata": {},
   "outputs": [
    {
     "data": {
      "text/plain": [
       "[6, 2, 10, 8, 12]"
      ]
     },
     "execution_count": 85,
     "metadata": {},
     "output_type": "execute_result"
    }
   ],
   "source": [
    "b=[1,5,9,3,6,2,10,15,8,12,5,\"a\"]\n",
    "a=[i for i in b if type(i)==int and i%2==0]\n",
    "a"
   ]
  },
  {
   "cell_type": "code",
   "execution_count": 93,
   "metadata": {},
   "outputs": [
    {
     "data": {
      "text/plain": [
       "['g',\n",
       " 'z',\n",
       " '%',\n",
       " 'g',\n",
       " 'n',\n",
       " 'w',\n",
       " '%',\n",
       " 'x',\n",
       " 'y',\n",
       " 'w',\n",
       " 'n',\n",
       " 's',\n",
       " 'l',\n",
       " 'i',\n",
       " 'n',\n",
       " 'w']"
      ]
     },
     "execution_count": 93,
     "metadata": {},
     "output_type": "execute_result"
    }
   ],
   "source": [
    "# a stringinin her bir karakterinin 5 ilerisindeki karakterleri \n",
    "# b listesine ekleyelim.\n",
    "a=\"bu bir stringdir\"\n",
    "b=[chr(ord(kar)+5) for kar in a]\n"
   ]
  },
  {
   "cell_type": "code",
   "execution_count": 96,
   "metadata": {},
   "outputs": [
    {
     "data": {
      "text/plain": [
       "[0.0,\n",
       " 1.0,\n",
       " 2.8284271247461903,\n",
       " 5.196152422706632,\n",
       " 8.0,\n",
       " 11.180339887498949,\n",
       " 14.696938456699069,\n",
       " 18.520259177452132,\n",
       " 22.627416997969522,\n",
       " 27.0]"
      ]
     },
     "execution_count": 96,
     "metadata": {},
     "output_type": "execute_result"
    }
   ],
   "source": [
    "a=[i**0.5 for i in [i**3 for i in range(10)]]\n",
    "a"
   ]
  },
  {
   "cell_type": "markdown",
   "metadata": {},
   "source": [
    "fonksiyonlar"
   ]
  },
  {
   "cell_type": "code",
   "execution_count": 99,
   "metadata": {},
   "outputs": [
    {
     "name": "stdout",
     "output_type": "stream",
     "text": [
      "merhaba\n"
     ]
    }
   ],
   "source": [
    "def merhaba():\n",
    "    \"\"\"\n",
    "    bu fonksiyon herhangi bir parametre almaz.\n",
    "    herhangi bir değer döndürmez.\n",
    "    sadece ekrana merhaba yazar.\n",
    "    \"\"\"\n",
    "    print(\"merhaba\")\n",
    "\n",
    "merhaba()"
   ]
  },
  {
   "cell_type": "code",
   "execution_count": 109,
   "metadata": {},
   "outputs": [],
   "source": [
    "def merhaba_v1(isim):\n",
    "    print(\"merhaba\", isim)"
   ]
  },
  {
   "cell_type": "code",
   "execution_count": 115,
   "metadata": {},
   "outputs": [
    {
     "name": "stdout",
     "output_type": "stream",
     "text": [
      "merhaba mehmet\n"
     ]
    }
   ],
   "source": [
    "merhaba_v1(\"mehmet\")"
   ]
  },
  {
   "cell_type": "code",
   "execution_count": 113,
   "metadata": {},
   "outputs": [
    {
     "name": "stdout",
     "output_type": "stream",
     "text": [
      "merhaba mehmet\n"
     ]
    },
    {
     "data": {
      "text/plain": [
       "str"
      ]
     },
     "execution_count": 113,
     "metadata": {},
     "output_type": "execute_result"
    }
   ],
   "source": [
    "def merhaba_v2(isim):\n",
    "    return \"merhaba {}\".format(isim)\n",
    "a=merhaba_v2(\"mehmet\")\n",
    "print(a)\n",
    "type(a)"
   ]
  },
  {
   "cell_type": "code",
   "execution_count": 118,
   "metadata": {},
   "outputs": [
    {
     "name": "stdout",
     "output_type": "stream",
     "text": [
      "12\n"
     ]
    }
   ],
   "source": [
    "def topla(a,b):\n",
    "    c=a+b\n",
    "    return c\n",
    "x=topla(5,7)\n",
    "print(x)"
   ]
  },
  {
   "cell_type": "code",
   "execution_count": 125,
   "metadata": {},
   "outputs": [
    {
     "data": {
      "text/plain": [
       "(False, 13)"
      ]
     },
     "execution_count": 125,
     "metadata": {},
     "output_type": "execute_result"
    }
   ],
   "source": [
    "def asal_mi(sayi):\n",
    "    for i in range(2,sayi):\n",
    "        if sayi%i==0:\n",
    "            return (False, i)\n",
    "    return True\n",
    "\n",
    "asal_mi(11479)\n",
    "    "
   ]
  },
  {
   "cell_type": "code",
   "execution_count": 129,
   "metadata": {},
   "outputs": [
    {
     "name": "stdout",
     "output_type": "stream",
     "text": [
      "10\n",
      "16\n",
      "18\n"
     ]
    }
   ],
   "source": [
    "def topla(a,b,c=5,d=10):\n",
    "    return a+b+c+d\n",
    "\n",
    "print(topla(1,2,3,4))\n",
    "print(topla(1,2,3))\n",
    "print(topla(1,2))"
   ]
  },
  {
   "cell_type": "markdown",
   "metadata": {},
   "source": [
    "local ve global değişkenler"
   ]
  },
  {
   "cell_type": "code",
   "execution_count": 130,
   "metadata": {},
   "outputs": [
    {
     "name": "stdout",
     "output_type": "stream",
     "text": [
      "5\n"
     ]
    }
   ],
   "source": [
    "a=5\n",
    "\n",
    "def f1():\n",
    "    print(a)\n",
    "\n",
    "f1()"
   ]
  },
  {
   "cell_type": "code",
   "execution_count": 131,
   "metadata": {},
   "outputs": [
    {
     "name": "stdout",
     "output_type": "stream",
     "text": [
      "3\n"
     ]
    }
   ],
   "source": [
    "a=5\n",
    "\n",
    "def f1(a):\n",
    "    print(a)\n",
    "\n",
    "f1(3)"
   ]
  },
  {
   "cell_type": "code",
   "execution_count": 132,
   "metadata": {},
   "outputs": [
    {
     "name": "stdout",
     "output_type": "stream",
     "text": [
      "10\n",
      "5\n"
     ]
    }
   ],
   "source": [
    "a=5\n",
    "\n",
    "def f1():\n",
    "    a=10\n",
    "    print(a)\n",
    "f1()\n",
    "print(a)"
   ]
  },
  {
   "cell_type": "code",
   "execution_count": 134,
   "metadata": {},
   "outputs": [
    {
     "name": "stdout",
     "output_type": "stream",
     "text": [
      "10\n",
      "10\n"
     ]
    }
   ],
   "source": [
    "a=5\n",
    "\n",
    "def f1():\n",
    "    global a\n",
    "    a=10\n",
    "    print(a)\n",
    "f1()\n",
    "print(a)"
   ]
  },
  {
   "cell_type": "markdown",
   "metadata": {},
   "source": [
    "\\*args ve \\*\\*kwargs"
   ]
  },
  {
   "cell_type": "code",
   "execution_count": 136,
   "metadata": {},
   "outputs": [
    {
     "data": {
      "text/plain": [
       "10"
      ]
     },
     "execution_count": 136,
     "metadata": {},
     "output_type": "execute_result"
    }
   ],
   "source": [
    "def topla(a,b,c,d):\n",
    "    return a+b+c+d\n",
    "topla(1,2,3,4)"
   ]
  },
  {
   "cell_type": "code",
   "execution_count": 137,
   "metadata": {},
   "outputs": [
    {
     "ename": "TypeError",
     "evalue": "topla() takes 4 positional arguments but 5 were given",
     "output_type": "error",
     "traceback": [
      "\u001b[1;31m---------------------------------------------------------------------------\u001b[0m",
      "\u001b[1;31mTypeError\u001b[0m                                 Traceback (most recent call last)",
      "\u001b[1;32m<ipython-input-137-12bafed4e42e>\u001b[0m in \u001b[0;36m<module>\u001b[1;34m\u001b[0m\n\u001b[0;32m      1\u001b[0m \u001b[1;32mdef\u001b[0m \u001b[0mtopla\u001b[0m\u001b[1;33m(\u001b[0m\u001b[0ma\u001b[0m\u001b[1;33m,\u001b[0m\u001b[0mb\u001b[0m\u001b[1;33m,\u001b[0m\u001b[0mc\u001b[0m\u001b[1;33m,\u001b[0m\u001b[0md\u001b[0m\u001b[1;33m)\u001b[0m\u001b[1;33m:\u001b[0m\u001b[1;33m\u001b[0m\u001b[1;33m\u001b[0m\u001b[0m\n\u001b[0;32m      2\u001b[0m     \u001b[1;32mreturn\u001b[0m \u001b[0ma\u001b[0m\u001b[1;33m+\u001b[0m\u001b[0mb\u001b[0m\u001b[1;33m+\u001b[0m\u001b[0mc\u001b[0m\u001b[1;33m+\u001b[0m\u001b[0md\u001b[0m\u001b[1;33m\u001b[0m\u001b[1;33m\u001b[0m\u001b[0m\n\u001b[1;32m----> 3\u001b[1;33m \u001b[0mtopla\u001b[0m\u001b[1;33m(\u001b[0m\u001b[1;36m1\u001b[0m\u001b[1;33m,\u001b[0m\u001b[1;36m2\u001b[0m\u001b[1;33m,\u001b[0m\u001b[1;36m3\u001b[0m\u001b[1;33m,\u001b[0m\u001b[1;36m4\u001b[0m\u001b[1;33m,\u001b[0m\u001b[1;36m5\u001b[0m\u001b[1;33m)\u001b[0m\u001b[1;33m\u001b[0m\u001b[1;33m\u001b[0m\u001b[0m\n\u001b[0m",
      "\u001b[1;31mTypeError\u001b[0m: topla() takes 4 positional arguments but 5 were given"
     ]
    }
   ],
   "source": [
    "def topla(a,b,c,d):\n",
    "    return a+b+c+d\n",
    "topla(1,2,3,4,5)"
   ]
  },
  {
   "cell_type": "code",
   "execution_count": 140,
   "metadata": {},
   "outputs": [
    {
     "data": {
      "text/plain": [
       "55"
      ]
     },
     "execution_count": 140,
     "metadata": {},
     "output_type": "execute_result"
    }
   ],
   "source": [
    "def topla(*args):\n",
    "    toplam=0\n",
    "    for sayi in args:\n",
    "        toplam+=sayi\n",
    "    return toplam\n",
    "\n",
    "topla(1,2,3,4,5,6,7,8,9,0,10)"
   ]
  },
  {
   "cell_type": "code",
   "execution_count": 141,
   "metadata": {},
   "outputs": [
    {
     "data": {
      "text/plain": [
       "55"
      ]
     },
     "execution_count": 141,
     "metadata": {},
     "output_type": "execute_result"
    }
   ],
   "source": [
    "def topla(*fonk_argumanlari):\n",
    "    toplam=0\n",
    "    for sayi in fonk_argumanlari:\n",
    "        toplam+=sayi\n",
    "    return toplam\n",
    "\n",
    "topla(1,2,3,4,5,6,7,8,9,0,10)"
   ]
  },
  {
   "cell_type": "code",
   "execution_count": 145,
   "metadata": {},
   "outputs": [
    {
     "data": {
      "text/plain": [
       "129"
      ]
     },
     "execution_count": 145,
     "metadata": {},
     "output_type": "execute_result"
    }
   ],
   "source": [
    "def topla(**kwargs):\n",
    "    toplam=0\n",
    "    for key in kwargs:\n",
    "        if key==\"kare\":\n",
    "            toplam+= kwargs[key]**2\n",
    "        if key==\"kup\":\n",
    "            toplam+= kwargs[key]**3\n",
    "    return toplam\n",
    "\n",
    "topla(kare=2,kup=5)"
   ]
  },
  {
   "cell_type": "code",
   "execution_count": 146,
   "metadata": {},
   "outputs": [
    {
     "data": {
      "text/plain": [
       "150"
      ]
     },
     "execution_count": 146,
     "metadata": {},
     "output_type": "execute_result"
    }
   ],
   "source": [
    "def topla(*args,**kwargs):\n",
    "    toplam=0\n",
    "    for key in kwargs:\n",
    "        if key==\"kare\":\n",
    "            toplam+= kwargs[key]**2\n",
    "        if key==\"kup\":\n",
    "            toplam+= kwargs[key]**3\n",
    "    for sayi in args:\n",
    "        toplam+=sayi\n",
    "    return toplam\n",
    "\n",
    "topla(1,2,3,4,5,6,kare=2,kup=5)"
   ]
  },
  {
   "cell_type": "code",
   "execution_count": 158,
   "metadata": {},
   "outputs": [
    {
     "data": {
      "text/plain": [
       "13"
      ]
     },
     "execution_count": 158,
     "metadata": {},
     "output_type": "execute_result"
    }
   ],
   "source": [
    "# a x^2+ b x + c\n",
    "def diskriminat(**kwargs):\n",
    "    a=kwargs[\"a\"]\n",
    "    b=kwargs[\"b\"]\n",
    "    c=kwargs[\"c\"]\n",
    "    \n",
    "    return b**2-4*a*c\n",
    "\n",
    "x=diskriminat(a=1,b=5,c=3)\n",
    "x"
   ]
  },
  {
   "cell_type": "code",
   "execution_count": null,
   "metadata": {},
   "outputs": [],
   "source": [
    "# a x^2+ b x + c\n",
    "def diskriminat(a,b,c):\n",
    "    return b**2-4*a*c\n",
    "\n",
    "x=diskriminat(a=1,b=5,c=3)\n",
    "x"
   ]
  },
  {
   "cell_type": "markdown",
   "metadata": {},
   "source": [
    "lambda ve map"
   ]
  },
  {
   "cell_type": "code",
   "execution_count": 160,
   "metadata": {},
   "outputs": [
    {
     "data": {
      "text/plain": [
       "11"
      ]
     },
     "execution_count": 160,
     "metadata": {},
     "output_type": "execute_result"
    }
   ],
   "source": [
    "def topla1(x):\n",
    "    return x+1\n",
    "\n",
    "topla1(10)"
   ]
  },
  {
   "cell_type": "code",
   "execution_count": 166,
   "metadata": {},
   "outputs": [],
   "source": [
    "#lambda isimsiz fonksiyon\n",
    "# x değişkenini al 1 ekle fonksiyonu\n",
    "a=lambda x: x+1"
   ]
  },
  {
   "cell_type": "code",
   "execution_count": 167,
   "metadata": {},
   "outputs": [
    {
     "data": {
      "text/plain": [
       "11"
      ]
     },
     "execution_count": 167,
     "metadata": {},
     "output_type": "execute_result"
    }
   ],
   "source": [
    "a(10)"
   ]
  },
  {
   "cell_type": "code",
   "execution_count": 168,
   "metadata": {},
   "outputs": [
    {
     "data": {
      "text/plain": [
       "[25, 64, 121, 225]"
      ]
     },
     "execution_count": 168,
     "metadata": {},
     "output_type": "execute_result"
    }
   ],
   "source": [
    "# map x listesindeki her elemanı lambda a: a**2 fonksiyona \n",
    "# parametre olarak gönderir.\n",
    "x=[5,8,11,15]\n",
    "list(map(lambda a: a**2,x))"
   ]
  },
  {
   "cell_type": "markdown",
   "metadata": {},
   "source": [
    "fonksiyonların fonksiyonlara parametre olarak atanması"
   ]
  },
  {
   "cell_type": "code",
   "execution_count": 169,
   "metadata": {},
   "outputs": [],
   "source": [
    "def topla1(x):\n",
    "    return x+1\n",
    "def carp2(x):\n",
    "    return 2*x\n",
    "\n",
    "def fonksiyonlar(f1,f2,sayi):\n",
    "    x=f2(sayi)\n",
    "    y=f1(x)\n",
    "    return y"
   ]
  },
  {
   "cell_type": "code",
   "execution_count": 170,
   "metadata": {},
   "outputs": [
    {
     "data": {
      "text/plain": [
       "21"
      ]
     },
     "execution_count": 170,
     "metadata": {},
     "output_type": "execute_result"
    }
   ],
   "source": [
    "fonksiyonlar(topla1, carp2, 10)"
   ]
  }
 ],
 "metadata": {
  "kernelspec": {
   "display_name": "Python 3",
   "language": "python",
   "name": "python3"
  },
  "language_info": {
   "codemirror_mode": {
    "name": "ipython",
    "version": 3
   },
   "file_extension": ".py",
   "mimetype": "text/x-python",
   "name": "python",
   "nbconvert_exporter": "python",
   "pygments_lexer": "ipython3",
   "version": "3.7.2"
  }
 },
 "nbformat": 4,
 "nbformat_minor": 2
}
