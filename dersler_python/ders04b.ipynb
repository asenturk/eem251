{
 "cells": [
  {
   "cell_type": "markdown",
   "metadata": {},
   "source": [
    "### Raspberry Pi\n",
    "\n",
    "Raspberry Pi ile ilgili ayrıntılı bilgilere aşağıdaki sitelerden ulaşabilirsiniz.\n",
    "- https://www.raspberrypi.org/      \n",
    "- https://www.raspberrypi.org/products/raspberry-pi-4-model-b/\n",
    "- https://market.samm.com/raspberry-pi-4-4gb"
   ]
  },
  {
   "cell_type": "markdown",
   "metadata": {},
   "source": [
    "1. İşletim sistemi kurulması: https://www.raspberrypi.org/downloads/\n",
    "   - Noobs paketi indirilir.\n",
    "   - SD kart formatlanır. https://www.sdcard.org/downloads/formatter_4/eula_windows/\n",
    "   - Noobs paketi zip dosyasından sd karta çıkartılır ve sd kart raspberry pi'ye takılır ve Raspian işletim sistemi kurulur.\n",
    "2. Uzak bağlantı ayarları   \n",
    "   - Wifi veya ethernet ayarları yapılır.\n",
    "   - Uygulama menüsünden, Tercihler -> Raspberry Pi Configuration Seçilir\n",
    "     - Açılan pencerenin interfaces sekmesinden SSH ve VNC etkinleştirilir.\n",
    "     \n",
    "<img src=\"images/vnc.png\">   \n"
   ]
  },
  {
   "cell_type": "markdown",
   "metadata": {},
   "source": [
    "Bilgisayara    \n",
    "- Uzak masaüstü bağlantısı için VNC viewer: https://www.realvnc.com/en/connect/download/viewer/   \n",
    "\n",
    "- Uzak Terminal bağlantısı için Putty:   \n",
    "https://www.putty.org/   \n",
    "- Uzak dosya yönetimi için WinSCP:  https://winscp.net/eng/download.php    \n",
    "\n",
    "gibi programların kurulması faydalı olacaktır."
   ]
  },
  {
   "cell_type": "markdown",
   "metadata": {},
   "source": [
    "**Temel Linux Komutları**\n",
    "\n",
    "Bu komutlar Raspberry Pi'de terminal pencersi kullanılarak veya Putty programı ile Raspberry Pi cihazına uzaktan bağlanarak yazılabilir.  \n",
    "Eğer Linux kurulu (veya Raspberry Pi) cihazınızı yok ise bu komutları Windows işletim sisteminde yazmak için Git-Bash programı kullanılabilir. https://git-scm.com/downloads  \n",
    "\n"
   ]
  },
  {
   "cell_type": "markdown",
   "metadata": {},
   "source": [
    "Komutlar   \n",
    "- pwd (mevcut dizin)\n",
    "- ls (listele)\n",
    "  - a: all\n",
    "  - l: long format\n",
    "\n",
    "- cd (dizin değiştir)\n",
    "  - klasör\n",
    "  - .. (üst dizin için)\n",
    "  \n",
    "\n",
    "- mkdir (yeni dizin)\n",
    "\n",
    "- rm (sil)\n",
    "rm a.txt\n",
    "\n",
    "- mv (taşı veya yeniden adlandır)\n",
    "mv dosya_eski_adi.txt /doslayar/"
   ]
  },
  {
   "cell_type": "markdown",
   "metadata": {},
   "source": [
    "**Raspberry Pi GPIO simulator:**   \n",
    "Raspberry Pi GPIO programları aşağıda verilen site kullanılarak simülasyonu yapılabilir.   \n",
    "https://create.withcode.uk/python/A3\n",
    "\n"
   ]
  },
  {
   "cell_type": "code",
   "execution_count": null,
   "metadata": {},
   "outputs": [],
   "source": [
    "# import modules\n",
    "import RPi.GPIO as GPIO\n",
    "import time\n",
    "\n",
    "# setup pins\n",
    "GPIO.setmode(GPIO.BOARD)\n",
    "GPIO.setup(3, GPIO.OUT)\n",
    "\n",
    "while True:\n",
    "    GPIO.output(3, GPIO.HIGH)\n",
    "    time.sleep(1)\n",
    "    GPIO.output(3, GPIO.LOW)\n",
    "    time.sleep(1)"
   ]
  },
  {
   "cell_type": "code",
   "execution_count": null,
   "metadata": {},
   "outputs": [],
   "source": [
    "# import modules\n",
    "import RPi.GPIO as GPIO\n",
    "import time\n",
    "\n",
    "# setup pins\n",
    "GPIO.setmode(GPIO.BOARD)\n",
    "pinler=[3,5,7,11]\n",
    "for i in pinler:\n",
    "    GPIO.setup(i, GPIO.OUT)\n",
    "\n",
    "while True:\n",
    "    for i in pinler:\n",
    "        GPIO.output(i, GPIO.HIGH)\n",
    "        time.sleep(0.3)\n",
    "        GPIO.output(i, GPIO.LOW)\n",
    "        time.sleep(0.3)"
   ]
  },
  {
   "cell_type": "code",
   "execution_count": null,
   "metadata": {},
   "outputs": [],
   "source": [
    "# import modules\n",
    "import RPi.GPIO as GPIO\n",
    "import time\n",
    "\n",
    "# setup pins\n",
    "GPIO.setmode(GPIO.BOARD)\n",
    "pinler=[3,5,7,11]\n",
    "for i in pinler:\n",
    "    GPIO.setup(i, GPIO.OUT)\n",
    "\n",
    "while True:\n",
    "    for i in pinler:\n",
    "        GPIO.output(i, GPIO.HIGH)\n",
    "        time.sleep(0.3)\n",
    "        GPIO.output(i, GPIO.LOW)\n",
    "        time.sleep(0.3)\n",
    "  \n",
    "    for i in pinler[-2:0:-1]:\n",
    "        GPIO.output(i, GPIO.HIGH)\n",
    "        time.sleep(0.3)\n",
    "        GPIO.output(i, GPIO.LOW)\n",
    "        time.sleep(0.3)"
   ]
  },
  {
   "cell_type": "code",
   "execution_count": null,
   "metadata": {},
   "outputs": [],
   "source": [
    "# import modules\n",
    "import RPi.GPIO as GPIO\n",
    "import time\n",
    "\n",
    "# setup pins\n",
    "GPIO.setmode(GPIO.BOARD)\n",
    "pinler=[3,5,7,11,13,15]\n",
    "GPIO.setup(19, GPIO.IN)\n",
    "for i in pinler:\n",
    "    GPIO.setup(i, GPIO.OUT)\n",
    "\n",
    "while True:\n",
    "    if GPIO.input(19) == GPIO.HIGH \n",
    "        for i in pinler:\n",
    "            GPIO.output(i, GPIO.HIGH)\n",
    "            time.sleep(0.3)\n",
    "            GPIO.output(i, GPIO.LOW)\n",
    "            time.sleep(0.3)\n",
    "    else: \n",
    "        for i in pinler[-2:0:-1]:\n",
    "            GPIO.output(i, GPIO.HIGH)\n",
    "            time.sleep(0.3)\n",
    "            GPIO.output(i, GPIO.LOW)\n",
    "            time.sleep(0.3)"
   ]
  }
 ],
 "metadata": {
  "kernelspec": {
   "display_name": "Python 3",
   "language": "python",
   "name": "python3"
  },
  "language_info": {
   "codemirror_mode": {
    "name": "ipython",
    "version": 3
   },
   "file_extension": ".py",
   "mimetype": "text/x-python",
   "name": "python",
   "nbconvert_exporter": "python",
   "pygments_lexer": "ipython3",
   "version": "3.7.2"
  }
 },
 "nbformat": 4,
 "nbformat_minor": 2
}
