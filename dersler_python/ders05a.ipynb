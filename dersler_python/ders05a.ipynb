{
 "cells": [
  {
   "cell_type": "markdown",
   "metadata": {},
   "source": [
    "### Karmaşık Sayılar"
   ]
  },
  {
   "cell_type": "code",
   "execution_count": 1,
   "metadata": {},
   "outputs": [
    {
     "data": {
      "text/plain": [
       "complex"
      ]
     },
     "execution_count": 1,
     "metadata": {},
     "output_type": "execute_result"
    }
   ],
   "source": [
    "a=2+3j\n",
    "b=4+3j\n",
    "type(a)"
   ]
  },
  {
   "cell_type": "code",
   "execution_count": 2,
   "metadata": {},
   "outputs": [
    {
     "name": "stdout",
     "output_type": "stream",
     "text": [
      "(6+6j)\n",
      "(-2+0j)\n",
      "(-1+18j)\n",
      "(0.68+0.24j)\n"
     ]
    }
   ],
   "source": [
    "print(a+b)\n",
    "print(a-b)\n",
    "print(a*b)\n",
    "print(a/b)"
   ]
  },
  {
   "cell_type": "code",
   "execution_count": 3,
   "metadata": {},
   "outputs": [
    {
     "data": {
      "text/plain": [
       "(2-3j)"
      ]
     },
     "execution_count": 3,
     "metadata": {},
     "output_type": "execute_result"
    }
   ],
   "source": [
    "a.conjugate()"
   ]
  },
  {
   "cell_type": "code",
   "execution_count": 11,
   "metadata": {},
   "outputs": [],
   "source": [
    "a=2+3j\n",
    "b=4+3j"
   ]
  },
  {
   "cell_type": "markdown",
   "metadata": {},
   "source": [
    "bir karmaşık sayı kutupsal formda r, theta ile ifade edilebilir.     \n",
    "r karmaşık sayının merkezden uzaklığı, theta ise açısıdır\n",
    "\n",
    "<img src=\"images/pol_rec.png\" width=\"400\">"
   ]
  },
  {
   "cell_type": "code",
   "execution_count": 16,
   "metadata": {},
   "outputs": [
    {
     "data": {
      "text/plain": [
       "5.0"
      ]
     },
     "execution_count": 16,
     "metadata": {},
     "output_type": "execute_result"
    }
   ],
   "source": [
    "r=abs(b)\n",
    "r"
   ]
  },
  {
   "cell_type": "markdown",
   "metadata": {},
   "source": [
    "Kompleks matematik kütüphanesi"
   ]
  },
  {
   "cell_type": "code",
   "execution_count": 4,
   "metadata": {},
   "outputs": [
    {
     "data": {
      "text/plain": [
       "['__doc__',\n",
       " '__loader__',\n",
       " '__name__',\n",
       " '__package__',\n",
       " '__spec__',\n",
       " 'acos',\n",
       " 'acosh',\n",
       " 'asin',\n",
       " 'asinh',\n",
       " 'atan',\n",
       " 'atanh',\n",
       " 'cos',\n",
       " 'cosh',\n",
       " 'e',\n",
       " 'exp',\n",
       " 'inf',\n",
       " 'infj',\n",
       " 'isclose',\n",
       " 'isfinite',\n",
       " 'isinf',\n",
       " 'isnan',\n",
       " 'log',\n",
       " 'log10',\n",
       " 'nan',\n",
       " 'nanj',\n",
       " 'phase',\n",
       " 'pi',\n",
       " 'polar',\n",
       " 'rect',\n",
       " 'sin',\n",
       " 'sinh',\n",
       " 'sqrt',\n",
       " 'tan',\n",
       " 'tanh',\n",
       " 'tau']"
      ]
     },
     "execution_count": 4,
     "metadata": {},
     "output_type": "execute_result"
    }
   ],
   "source": [
    "import cmath\n",
    "dir(cmath)"
   ]
  },
  {
   "cell_type": "code",
   "execution_count": 22,
   "metadata": {},
   "outputs": [
    {
     "data": {
      "text/plain": [
       "36.86989764584402"
      ]
     },
     "execution_count": 22,
     "metadata": {},
     "output_type": "execute_result"
    }
   ],
   "source": [
    "from cmath import phase,pi\n",
    "rad=phase(b)\n",
    "derece=rad*180/pi\n",
    "derece"
   ]
  },
  {
   "cell_type": "code",
   "execution_count": 29,
   "metadata": {},
   "outputs": [
    {
     "name": "stdout",
     "output_type": "stream",
     "text": [
      "Help on built-in function polar in module cmath:\n",
      "\n",
      "polar(z, /)\n",
      "    Convert a complex from rectangular coordinates to polar coordinates.\n",
      "    \n",
      "    r is the distance from 0 and phi the phase angle.\n",
      "\n",
      "(5.0, 0.9272952180016122)\n",
      "Help on built-in function rect in module cmath:\n",
      "\n",
      "rect(r, phi, /)\n",
      "    Convert from polar coordinates to rectangular coordinates.\n",
      "\n"
     ]
    },
    {
     "data": {
      "text/plain": [
       "(3.000020871965608+3.999984345940708j)"
      ]
     },
     "execution_count": 29,
     "metadata": {},
     "output_type": "execute_result"
    }
   ],
   "source": [
    "from cmath import polar, rect\n",
    "help(polar)\n",
    "print(polar(3+4j))\n",
    "help(rect)\n",
    "rect(5,0.92729)"
   ]
  },
  {
   "cell_type": "code",
   "execution_count": 33,
   "metadata": {},
   "outputs": [
    {
     "name": "stdout",
     "output_type": "stream",
     "text": [
      "(5.0, 53.13010235415598)\n"
     ]
    },
    {
     "data": {
      "text/plain": [
       "(3.0000071456633126+3.999994640742543j)"
      ]
     },
     "execution_count": 33,
     "metadata": {},
     "output_type": "execute_result"
    }
   ],
   "source": [
    "from cmath import phase,pi,polar, rect\n",
    "\n",
    "def to_kutupsal(karmasik_sayi):\n",
    "    \"\"\"\n",
    "    parametre olarak karmaşık sayı girilmelidir.\n",
    "    \"\"\"\n",
    "    r=abs(karmasik_sayi)\n",
    "    theta=phase(karmasik_sayi)\n",
    "    theta=theta*180/pi\n",
    "    return (r, theta)\n",
    "\n",
    "print(to_kutupsal(3+4j))\n",
    "\n",
    "def to_kartezyen(r, theta):\n",
    "    \"\"\"\n",
    "    uzunluğu ve açısı girilen kutupsal karmaşık sayıyı kartezyen forma çeviren fonksiyon\n",
    "    \"\"\"\n",
    "    theta=theta*pi/180\n",
    "    \n",
    "    return rect(r,theta)\n",
    "    \n",
    "to_kartezyen(5.0, 53.130) "
   ]
  },
  {
   "cell_type": "code",
   "execution_count": 35,
   "metadata": {},
   "outputs": [
    {
     "data": {
      "text/plain": [
       "(21.213203435596427, 98.13)"
      ]
     },
     "execution_count": 35,
     "metadata": {},
     "output_type": "execute_result"
    }
   ],
   "source": [
    "to_kutupsal((3+3j)*to_kartezyen(5,53.13))"
   ]
  }
 ],
 "metadata": {
  "kernelspec": {
   "display_name": "Python 3",
   "language": "python",
   "name": "python3"
  },
  "language_info": {
   "codemirror_mode": {
    "name": "ipython",
    "version": 3
   },
   "file_extension": ".py",
   "mimetype": "text/x-python",
   "name": "python",
   "nbconvert_exporter": "python",
   "pygments_lexer": "ipython3",
   "version": "3.7.2"
  }
 },
 "nbformat": 4,
 "nbformat_minor": 2
}
